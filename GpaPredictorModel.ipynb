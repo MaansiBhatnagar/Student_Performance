{
 "cells": [
  {
   "cell_type": "markdown",
   "metadata": {},
   "source": [
    "# Loading the dataset"
   ]
  },
  {
   "cell_type": "code",
   "execution_count": 17,
   "metadata": {},
   "outputs": [],
   "source": [
    "import pandas as pd\n",
    "\n",
    "student_df = pd.read_csv(\"D://Student_Performance//Student_performance_data _.csv\")"
   ]
  },
  {
   "cell_type": "code",
   "execution_count": 18,
   "metadata": {},
   "outputs": [
    {
     "name": "stdout",
     "output_type": "stream",
     "text": [
      "Index(['StudentID', 'Age', 'Gender', 'Ethnicity', 'ParentalEducation',\n",
      "       'StudyTimeWeekly', 'Absences', 'Tutoring', 'ParentalSupport',\n",
      "       'Extracurricular', 'Sports', 'Music', 'Volunteering', 'GPA',\n",
      "       'GradeClass'],\n",
      "      dtype='object')\n"
     ]
    }
   ],
   "source": [
    "print(student_df.columns)"
   ]
  },
  {
   "cell_type": "code",
   "execution_count": 19,
   "metadata": {},
   "outputs": [
    {
     "name": "stdout",
     "output_type": "stream",
     "text": [
      "(2392, 15)\n"
     ]
    }
   ],
   "source": [
    "print(student_df.shape)"
   ]
  },
  {
   "cell_type": "code",
   "execution_count": 20,
   "metadata": {},
   "outputs": [
    {
     "name": "stdout",
     "output_type": "stream",
     "text": [
      "<bound method NDFrame.head of       StudentID  Age  Gender  Ethnicity  ParentalEducation  StudyTimeWeekly  \\\n",
      "0          1001   17       1          0                  2        19.833723   \n",
      "1          1002   18       0          0                  1        15.408756   \n",
      "2          1003   15       0          2                  3         4.210570   \n",
      "3          1004   17       1          0                  3        10.028829   \n",
      "4          1005   17       1          0                  2         4.672495   \n",
      "...         ...  ...     ...        ...                ...              ...   \n",
      "2387       3388   18       1          0                  3        10.680555   \n",
      "2388       3389   17       0          0                  1         7.583217   \n",
      "2389       3390   16       1          0                  2         6.805500   \n",
      "2390       3391   16       1          1                  0        12.416653   \n",
      "2391       3392   16       1          0                  2        17.819907   \n",
      "\n",
      "      Absences  Tutoring  ParentalSupport  Extracurricular  Sports  Music  \\\n",
      "0            7         1                2                0       0      1   \n",
      "1            0         0                1                0       0      0   \n",
      "2           26         0                2                0       0      0   \n",
      "3           14         0                3                1       0      0   \n",
      "4           17         1                3                0       0      0   \n",
      "...        ...       ...              ...              ...     ...    ...   \n",
      "2387         2         0                4                1       0      0   \n",
      "2388         4         1                4                0       1      0   \n",
      "2389        20         0                2                0       0      0   \n",
      "2390        17         0                2                0       1      1   \n",
      "2391        13         0                2                0       0      0   \n",
      "\n",
      "      Volunteering       GPA  GradeClass  \n",
      "0                0  2.929196         2.0  \n",
      "1                0  3.042915         1.0  \n",
      "2                0  0.112602         4.0  \n",
      "3                0  2.054218         3.0  \n",
      "4                0  1.288061         4.0  \n",
      "...            ...       ...         ...  \n",
      "2387             0  3.455509         0.0  \n",
      "2388             0  3.279150         4.0  \n",
      "2389             1  1.142333         2.0  \n",
      "2390             0  1.803297         1.0  \n",
      "2391             1  2.140014         1.0  \n",
      "\n",
      "[2392 rows x 15 columns]>\n"
     ]
    }
   ],
   "source": [
    "print(student_df.head)"
   ]
  },
  {
   "cell_type": "code",
   "execution_count": 21,
   "metadata": {},
   "outputs": [],
   "source": [
    "student_df=student_df.drop('GradeClass',axis=1)"
   ]
  },
  {
   "cell_type": "code",
   "execution_count": 22,
   "metadata": {},
   "outputs": [
    {
     "name": "stdout",
     "output_type": "stream",
     "text": [
      "Index(['StudentID', 'Age', 'Gender', 'Ethnicity', 'ParentalEducation',\n",
      "       'StudyTimeWeekly', 'Absences', 'Tutoring', 'ParentalSupport',\n",
      "       'Extracurricular', 'Sports', 'Music', 'Volunteering', 'GPA'],\n",
      "      dtype='object')\n"
     ]
    }
   ],
   "source": [
    "print(student_df.columns)"
   ]
  },
  {
   "cell_type": "markdown",
   "metadata": {},
   "source": [
    "# Check for missing values"
   ]
  },
  {
   "cell_type": "code",
   "execution_count": 23,
   "metadata": {},
   "outputs": [
    {
     "name": "stdout",
     "output_type": "stream",
     "text": [
      "StudentID            0\n",
      "Age                  0\n",
      "Gender               0\n",
      "Ethnicity            0\n",
      "ParentalEducation    0\n",
      "StudyTimeWeekly      0\n",
      "Absences             0\n",
      "Tutoring             0\n",
      "ParentalSupport      0\n",
      "Extracurricular      0\n",
      "Sports               0\n",
      "Music                0\n",
      "Volunteering         0\n",
      "GPA                  0\n",
      "dtype: int64\n"
     ]
    }
   ],
   "source": [
    "missing_values = student_df.isnull().sum()\n",
    "print(missing_values)\n"
   ]
  },
  {
   "cell_type": "code",
   "execution_count": 24,
   "metadata": {},
   "outputs": [
    {
     "name": "stdout",
     "output_type": "stream",
     "text": [
      "StudentID            2392\n",
      "Age                     4\n",
      "Gender                  2\n",
      "Ethnicity               4\n",
      "ParentalEducation       5\n",
      "StudyTimeWeekly      2392\n",
      "Absences               30\n",
      "Tutoring                2\n",
      "ParentalSupport         5\n",
      "Extracurricular         2\n",
      "Sports                  2\n",
      "Music                   2\n",
      "Volunteering            2\n",
      "GPA                  2371\n",
      "dtype: int64\n"
     ]
    }
   ],
   "source": [
    "unique_counts = student_df.nunique()\n",
    "print(unique_counts)\n"
   ]
  },
  {
   "cell_type": "markdown",
   "metadata": {},
   "source": [
    "<u>Demographic Details</u><br>\n",
    "<b>Age</b>: The age of the students ranges from 15 to 18 years.\n",
    "<b>Gender</b>: Gender of the students, where 0 represents Male and 1 represents Female.<br>\n",
    "<b>Ethnicity</b>: The ethnicity of the students, coded as follows:<br>\n",
    "0: Caucasian\n",
    "1: African American\n",
    "2: Asian\n",
    "3: Other<br>\n",
    "<b>ParentalEducation</b>: The education level of the parents, coded as follows:<br>\n",
    "0: None\n",
    "1: High School\n",
    "2: Some College\n",
    "3: Bachelor's\n",
    "4: Higher<br>\n",
    "<u>Study Habits</u><br>\n",
    "<b>StudyTimeWeekly</b>: Weekly study time in hours, ranging from 0 to 20.\n",
    "<b>Absences</b>: Number of absences during the school year, ranging from 0 to 30.\n",
    "<b>Tutoring</b>: Tutoring status, where 0 indicates No and 1 indicates Yes.<br>\n",
    "<u>Parental Involvement</u><br>\n",
    "<b>ParentalSupport</b>: The level of parental support, coded as follows:<br>\n",
    "0: None\n",
    "1: Low\n",
    "2: Moderate\n",
    "3: High\n",
    "4: Very High<br>\n",
    "E<u>xtracurricular Activities</u><br>\n",
    "<b>Extracurricular</b>: Participation in extracurricular activities, where 0 indicates No and 1 indicates Yes.\n",
    "<b>Sports</b>: Participation in sports, where 0 indicates No and 1 indicates Yes.\n",
    "<b>Music</b>: Participation in music activities, where 0 indicates No and 1 indicates Yes.\n",
    "<b>Volunteering<b>: Participation in volunteering, where 0 indicates No and 1 indicates Yes."
   ]
  },
  {
   "cell_type": "code",
   "execution_count": 25,
   "metadata": {},
   "outputs": [
    {
     "name": "stdout",
     "output_type": "stream",
     "text": [
      "StudentID: [1001 1002 1003 ... 3390 3391 3392]\n",
      "Age: [17 18 15 16]\n",
      "Gender: [1 0]\n",
      "Ethnicity: [0 2 1 3]\n",
      "ParentalEducation: [2 1 3 4 0]\n",
      "StudyTimeWeekly: [19.83372281 15.40875606  4.21056977 ...  6.80549964 12.41665266\n",
      " 17.81990749]\n",
      "Absences: [ 7  0 26 14 17 10 22  1 11 15 21  9 16 29  2 25 20  5  8 12 27 23  3 13\n",
      "  6 28  4 18 19 24]\n",
      "Tutoring: [1 0]\n",
      "ParentalSupport: [2 1 3 4 0]\n",
      "Extracurricular: [0 1]\n",
      "Sports: [0 1]\n",
      "Music: [1 0]\n",
      "Volunteering: [0 1]\n",
      "GPA: [2.92919559 3.04291483 0.11260225 ... 1.14233288 1.80329676 2.14001388]\n"
     ]
    }
   ],
   "source": [
    "for column in student_df.columns:\n",
    "    unique_values = student_df[column].unique()\n",
    "    print(f\"{column}: {unique_values}\")\n"
   ]
  },
  {
   "cell_type": "markdown",
   "metadata": {},
   "source": [
    "# Making GPA as target feature"
   ]
  },
  {
   "cell_type": "code",
   "execution_count": 27,
   "metadata": {},
   "outputs": [],
   "source": [
    "X = student_df.drop(columns=['GPA','StudentID'])  # Feature columns\n",
    "y = student_df['GPA']                 # Target column"
   ]
  },
  {
   "cell_type": "markdown",
   "metadata": {},
   "source": [
    "# Using RandomForestRegressor to measure feature importance"
   ]
  },
  {
   "cell_type": "code",
   "execution_count": 28,
   "metadata": {},
   "outputs": [
    {
     "name": "stdout",
     "output_type": "stream",
     "text": [
      "              Feature  Importance\n",
      "5            Absences    0.853711\n",
      "4     StudyTimeWeekly    0.056966\n",
      "7     ParentalSupport    0.034201\n",
      "6            Tutoring    0.012999\n",
      "8     Extracurricular    0.008380\n",
      "9              Sports    0.007364\n",
      "0                 Age    0.006554\n",
      "3   ParentalEducation    0.006382\n",
      "2           Ethnicity    0.005112\n",
      "10              Music    0.003896\n",
      "1              Gender    0.002578\n",
      "11       Volunteering    0.001856\n"
     ]
    }
   ],
   "source": [
    "from sklearn.ensemble import RandomForestRegressor\n",
    "\n",
    "# Initialize and train the RandomForestRegressor on the full data\n",
    "rf = RandomForestRegressor(random_state=42)\n",
    "rf.fit(X, y)\n",
    "\n",
    "# Extract feature importances\n",
    "feature_importance = rf.feature_importances_\n",
    "importance_df = pd.DataFrame({'Feature': X.columns, 'Importance': feature_importance})\n",
    "importance_df = importance_df.sort_values(by='Importance', ascending=False)\n",
    "\n",
    "# Display the feature importance\n",
    "print(importance_df)"
   ]
  },
  {
   "cell_type": "code",
   "execution_count": 29,
   "metadata": {},
   "outputs": [
    {
     "name": "stdout",
     "output_type": "stream",
     "text": [
      "Training data shape: (1913, 12)\n",
      "Test data shape: (479, 12)\n",
      "Training target shape: (1913,)\n",
      "Test target shape: (479,)\n"
     ]
    }
   ],
   "source": [
    "from sklearn.model_selection import train_test_split\n",
    "\n",
    "# Split the data into 80% training and 20% test set\n",
    "X_train, X_test, y_train, y_test = train_test_split(X, y, test_size=0.2, random_state=42)\n",
    "\n",
    "# Display the shapes of the resulting splits\n",
    "print(\"Training data shape:\", X_train.shape)\n",
    "print(\"Test data shape:\", X_test.shape)\n",
    "print(\"Training target shape:\", y_train.shape)\n",
    "print(\"Test target shape:\", y_test.shape)"
   ]
  },
  {
   "cell_type": "markdown",
   "metadata": {},
   "source": [
    "# Using Linear Regression to create ML model.\n",
    "Since we are predicting GPA which is continuous data, Linear Regression is an efficient ML algorithm for the prediction."
   ]
  },
  {
   "cell_type": "code",
   "execution_count": 30,
   "metadata": {},
   "outputs": [
    {
     "name": "stdout",
     "output_type": "stream",
     "text": [
      "Intercept: 2.6051186552967116\n",
      "Coefficients: [-5.73424324e-03  1.05158594e-02  4.74448753e-03  1.25102133e-04\n",
      "  2.90388035e-02 -9.95173088e-02  2.58261545e-01  1.47838494e-01\n",
      "  1.89546339e-01  1.84990827e-01  1.52484274e-01 -5.28171569e-03]\n"
     ]
    }
   ],
   "source": [
    "from sklearn.linear_model import LinearRegression\n",
    "\n",
    "# Initialize the Linear Regression model\n",
    "gpa_model = LinearRegression()\n",
    "\n",
    "# Train the model on the training data\n",
    "gpa_model.fit(X_train, y_train)\n",
    "\n",
    "# Display the model coefficients\n",
    "print(\"Intercept:\", gpa_model.intercept_)\n",
    "print(\"Coefficients:\", gpa_model.coef_)\n"
   ]
  },
  {
   "cell_type": "code",
   "execution_count": 31,
   "metadata": {},
   "outputs": [
    {
     "name": "stdout",
     "output_type": "stream",
     "text": [
      "Mean Absolute Error (MAE): 0.15529483485748088\n",
      "R-squared (R²): 0.9532471681022928\n"
     ]
    }
   ],
   "source": [
    "from sklearn.metrics import mean_absolute_error, mean_squared_error, r2_score\n",
    "\n",
    "# Make predictions on the test data\n",
    "y_pred = gpa_model.predict(X_test)\n",
    "\n",
    "# Calculate and display evaluation metrics\n",
    "mae = mean_absolute_error(y_test, y_pred)\n",
    "r2 = r2_score(y_test, y_pred)\n",
    "\n",
    "print(\"Mean Absolute Error (MAE):\", mae)\n",
    "print(\"R-squared (R²):\", r2)\n"
   ]
  },
  {
   "cell_type": "code",
   "execution_count": 32,
   "metadata": {},
   "outputs": [
    {
     "name": "stdout",
     "output_type": "stream",
     "text": [
      "Mean Absolute Percentage Error (MAPE): 15.052965225012446\n",
      "Model Accuracy (%): 84.94703477498756\n"
     ]
    }
   ],
   "source": [
    "import numpy as np\n",
    "\n",
    "# Filter out zero values from y_test and y_pred\n",
    "non_zero_indices = y_test != 0\n",
    "y_test_non_zero = y_test[non_zero_indices]\n",
    "y_pred_non_zero = y_pred[non_zero_indices]\n",
    "\n",
    "# Calculate Mean Absolute Percentage Error (MAPE)\n",
    "if len(y_test_non_zero) > 0:\n",
    "    mape = np.mean(np.abs((y_test_non_zero - y_pred_non_zero) / y_test_non_zero)) * 100\n",
    "    accuracy = 100 - mape\n",
    "else:\n",
    "    mape = np.inf  # or some indication of undefined\n",
    "    accuracy = -np.inf  # or some indication of undefined\n",
    "\n",
    "print(\"Mean Absolute Percentage Error (MAPE):\", mape)\n",
    "print(\"Model Accuracy (%):\", accuracy)\n"
   ]
  },
  {
   "cell_type": "code",
   "execution_count": 33,
   "metadata": {},
   "outputs": [
    {
     "name": "stdout",
     "output_type": "stream",
     "text": [
      "Model saved as gpa_predictor_model.pkl\n"
     ]
    }
   ],
   "source": [
    "import pickle\n",
    "# Save the model as a .pkl file\n",
    "with open(\"gpa_predictor_model.pkl\", \"wb\") as file:\n",
    "    pickle.dump(gpa_model, file)\n",
    "\n",
    "print(\"Model saved as gpa_predictor_model.pkl\")"
   ]
  }
 ],
 "metadata": {
  "kernelspec": {
   "display_name": "Python 3",
   "language": "python",
   "name": "python3"
  },
  "language_info": {
   "codemirror_mode": {
    "name": "ipython",
    "version": 3
   },
   "file_extension": ".py",
   "mimetype": "text/x-python",
   "name": "python",
   "nbconvert_exporter": "python",
   "pygments_lexer": "ipython3",
   "version": "3.11.4"
  }
 },
 "nbformat": 4,
 "nbformat_minor": 2
}
